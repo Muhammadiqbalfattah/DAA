{
  "metadata": {
    "language_info": {
      "codemirror_mode": {
        "name": "python",
        "version": 3
      },
      "file_extension": ".py",
      "mimetype": "text/x-python",
      "name": "python",
      "nbconvert_exporter": "python",
      "pygments_lexer": "ipython3",
      "version": "3.8"
    },
    "kernelspec": {
      "name": "python",
      "display_name": "Python (Pyodide)",
      "language": "python"
    }
  },
  "nbformat_minor": 4,
  "nbformat": 4,
  "cells": [
    {
      "cell_type": "code",
      "source": "import numpy as np\nprint (np.__version__)",
      "metadata": {
        "trusted": true
      },
      "execution_count": 3,
      "outputs": [
        {
          "name": "stdout",
          "text": "1.22.4\n",
          "output_type": "stream"
        }
      ]
    },
    {
      "cell_type": "code",
      "source": "print (\"Hello, World!\")\nprint (\"Nama saya Muhammad Iqbal Fattah\")\nprint (\"NIM saya 2021071002\")",
      "metadata": {
        "trusted": true
      },
      "execution_count": 4,
      "outputs": [
        {
          "name": "stdout",
          "text": "Hello, World!\nNama saya Muhammad Iqbal Fattah\nNIM saya 2021071002\n",
          "output_type": "stream"
        }
      ]
    },
    {
      "cell_type": "code",
      "source": "if 5 > 2 :\n    print (\"Five Greater Than Two ! \")",
      "metadata": {
        "trusted": true
      },
      "execution_count": 5,
      "outputs": [
        {
          "name": "stdout",
          "text": "Five Greater Than Two ! \n",
          "output_type": "stream"
        }
      ]
    },
    {
      "cell_type": "code",
      "source": "x = 5\ny = \"John\"\n\nprint(x)\nprint(y)",
      "metadata": {
        "trusted": true
      },
      "execution_count": 8,
      "outputs": [
        {
          "name": "stdout",
          "text": "5\nJohn\n",
          "output_type": "stream"
        }
      ]
    },
    {
      "cell_type": "code",
      "source": "x = 5\nx = \"Sally\"\n\nprint(x)",
      "metadata": {
        "trusted": true
      },
      "execution_count": 9,
      "outputs": [
        {
          "name": "stdout",
          "text": "Sally\n",
          "output_type": "stream"
        }
      ]
    },
    {
      "cell_type": "code",
      "source": "#Latihan 2",
      "metadata": {},
      "execution_count": null,
      "outputs": []
    },
    {
      "cell_type": "code",
      "source": "def getFirst(myList):\n    return myList[0]",
      "metadata": {
        "trusted": true
      },
      "execution_count": 42,
      "outputs": []
    },
    {
      "cell_type": "code",
      "source": "getFirst([1,2,3])",
      "metadata": {
        "trusted": true
      },
      "execution_count": 113,
      "outputs": [
        {
          "execution_count": 113,
          "output_type": "execute_result",
          "data": {
            "text/plain": "1"
          },
          "metadata": {}
        }
      ]
    },
    {
      "cell_type": "code",
      "source": "def getFirst(myList):\n    return myList[0]",
      "metadata": {
        "trusted": true
      },
      "execution_count": 111,
      "outputs": []
    },
    {
      "cell_type": "code",
      "source": "getFirst([1-2+3])",
      "metadata": {
        "tags": [],
        "trusted": true
      },
      "execution_count": 115,
      "outputs": [
        {
          "execution_count": 115,
          "output_type": "execute_result",
          "data": {
            "text/plain": "2"
          },
          "metadata": {}
        }
      ]
    },
    {
      "cell_type": "code",
      "source": "def getFirst(myList):\n    return myList[0]",
      "metadata": {
        "trusted": true
      },
      "execution_count": 117,
      "outputs": []
    },
    {
      "cell_type": "code",
      "source": "getFirst([2/ 2*3])",
      "metadata": {
        "trusted": true
      },
      "execution_count": 118,
      "outputs": [
        {
          "execution_count": 118,
          "output_type": "execute_result",
          "data": {
            "text/plain": "3.0"
          },
          "metadata": {}
        }
      ]
    },
    {
      "cell_type": "code",
      "source": "def getSum(myList):\n    sum = 0\n    for item in myList :\n        sum = sum+item\n    return sum ",
      "metadata": {
        "trusted": true
      },
      "execution_count": 26,
      "outputs": []
    },
    {
      "cell_type": "code",
      "source": "getSum([1,2,3,4])",
      "metadata": {
        "trusted": true
      },
      "execution_count": 27,
      "outputs": [
        {
          "execution_count": 27,
          "output_type": "execute_result",
          "data": {
            "text/plain": "10"
          },
          "metadata": {}
        }
      ]
    },
    {
      "cell_type": "code",
      "source": "def getSum(myList):\n    sum = 0\n    for item in myList :\n        sum = sum+item\n    return sum ",
      "metadata": {
        "trusted": true
      },
      "execution_count": 107,
      "outputs": []
    },
    {
      "cell_type": "code",
      "source": "getSum([1*2*3*4])",
      "metadata": {
        "trusted": true
      },
      "execution_count": 108,
      "outputs": [
        {
          "execution_count": 108,
          "output_type": "execute_result",
          "data": {
            "text/plain": "24"
          },
          "metadata": {}
        }
      ]
    },
    {
      "cell_type": "code",
      "source": "def getSum(myListt):\n    sum = 0\n    for item in myListt :\n        sum = sum+item\n    return sum ",
      "metadata": {
        "trusted": true
      },
      "execution_count": 110,
      "outputs": []
    },
    {
      "cell_type": "code",
      "source": "getSum([1/2/3/4])",
      "metadata": {
        "trusted": true
      },
      "execution_count": 109,
      "outputs": [
        {
          "execution_count": 109,
          "output_type": "execute_result",
          "data": {
            "text/plain": "0.041666666666666664"
          },
          "metadata": {}
        }
      ]
    },
    {
      "cell_type": "code",
      "source": "#Latihan 3",
      "metadata": {},
      "execution_count": null,
      "outputs": []
    },
    {
      "cell_type": "code",
      "source": "def getSum(myListt):\n    sum = 0\n    for item in myListt :\n        sum = sum+item\n    return sum ",
      "metadata": {
        "trusted": true
      },
      "execution_count": 119,
      "outputs": []
    },
    {
      "cell_type": "code",
      "source": "getSum ([1/2]+[3/4])",
      "metadata": {
        "trusted": true
      },
      "execution_count": 121,
      "outputs": [
        {
          "execution_count": 121,
          "output_type": "execute_result",
          "data": {
            "text/plain": "1.25"
          },
          "metadata": {}
        }
      ]
    },
    {
      "cell_type": "code",
      "source": "def getSum(myListt):\n    sum = 0\n    for item in myListt :\n        sum = sum+item\n    return sum ",
      "metadata": {},
      "execution_count": null,
      "outputs": []
    },
    {
      "cell_type": "code",
      "source": "getSum ([1-2]+[3/4])",
      "metadata": {},
      "execution_count": null,
      "outputs": []
    }
  ]
}